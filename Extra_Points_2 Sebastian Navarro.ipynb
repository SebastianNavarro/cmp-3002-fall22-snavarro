{
 "cells": [
  {
   "cell_type": "code",
   "execution_count": 3,
   "id": "37117c33",
   "metadata": {},
   "outputs": [
    {
     "name": "stdout",
     "output_type": "stream",
     "text": [
      "   1   4   7  11  15\n",
      "   2   5   8  12  19\n",
      "   3   6   9  16  22\n",
      "  10  13  14  17  24\n",
      "  18  21  23  26  30\n",
      "True\n",
      "True\n",
      "True\n",
      "True\n",
      "False\n",
      "False\n"
     ]
    }
   ],
   "source": [
    "import numpy as np\n",
    "\n",
    "a = np.array([[1,4,7,11,15],[2,5,8,12,19],[3,6,9,16,22],\n",
    "              [10,13,14,17,24],[18,21,23,26,30]])\n",
    "\n",
    "print('\\n'.join([''.join(['{:4}'.format(item) for item in row]) \n",
    "      for row in a]))\n",
    "\n",
    "def func(array,target):\n",
    "    for sub_array in array:\n",
    "        for x in range(0,(len(sub_array)//2)+1):\n",
    "            if len(sub_array)!=0:\n",
    "                if len(sub_array)>2:\n",
    "                    pivot=len(sub_array)//2\n",
    "                else:\n",
    "                    pivot=0\n",
    "                if(sub_array[pivot]<target):\n",
    "                    sub_array = sub_array[pivot+1:len(sub_array)]\n",
    "                elif(sub_array[pivot]>target):\n",
    "                    sub_array = sub_array[0:pivot] \n",
    "                elif(sub_array[pivot]==target):\n",
    "                    sub_array = [target]\n",
    "                    return True\n",
    "                \n",
    "    return False\n",
    "               \n",
    "print(func(a,13)) \n",
    "print(func(a,10))\n",
    "print(func(a,11))\n",
    "print(func(a,8))\n",
    "print(func(a,31))\n",
    "print(func(a,25))"
   ]
  }
 ],
 "metadata": {
  "kernelspec": {
   "display_name": "Python 3 (ipykernel)",
   "language": "python",
   "name": "python3"
  },
  "language_info": {
   "codemirror_mode": {
    "name": "ipython",
    "version": 3
   },
   "file_extension": ".py",
   "mimetype": "text/x-python",
   "name": "python",
   "nbconvert_exporter": "python",
   "pygments_lexer": "ipython3",
   "version": "3.10.7"
  }
 },
 "nbformat": 4,
 "nbformat_minor": 5
}
