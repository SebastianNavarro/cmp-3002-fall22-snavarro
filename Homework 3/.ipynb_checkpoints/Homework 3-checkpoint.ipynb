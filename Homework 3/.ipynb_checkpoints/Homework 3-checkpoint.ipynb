{
 "cells": [
  {
   "cell_type": "markdown",
   "id": "42608c72",
   "metadata": {},
   "source": [
    "# Homework 3"
   ]
  },
  {
   "cell_type": "markdown",
   "id": "93343b3b",
   "metadata": {},
   "source": [
    "## 1. Assume you have two sorted linked lists. Use recursion to merge these lists and return a new sorted list."
   ]
  },
  {
   "cell_type": "code",
   "execution_count": 9,
   "id": "d4631e23",
   "metadata": {},
   "outputs": [
    {
     "name": "stdout",
     "output_type": "stream",
     "text": [
      "List 1:\n",
      "1 -> 3 -> 5 -> 7 -> \n",
      "\n",
      "List 2:\n",
      "2 -> 4 -> 6 -> \n",
      "\n",
      "List Merged:\n",
      "1 -> 2 -> 3 -> 4 -> 5 -> 6 -> 7 -> "
     ]
    }
   ],
   "source": [
    "class Node:\n",
    "    \"\"\"\n",
    "    Implementation of a node\n",
    "    \"\"\"\n",
    "    def __init__(self, val=None):\n",
    "        self.val = val\n",
    "        self.next_node = None\n",
    "    \n",
    "    def set_next_node(self, next_node):\n",
    "        self.next_node = next_node\n",
    "        \n",
    "class Singly_linked_list:\n",
    "    \"\"\"\n",
    "    Implementation of a singly linked list\n",
    "    \"\"\"\n",
    "    def __init__(self, head_node=None):\n",
    "        self.head_node = head_node\n",
    "\n",
    "    def list_traversed(self):\n",
    "        node = self.head_node\n",
    "        while node:\n",
    "            print(node.val, end=' -> ')\n",
    "            node = node.next_node\n",
    "\n",
    "#Complexity O(n)\n",
    "def merge (list_1, list_2):\n",
    "    if(list_1 is None):\n",
    "        return list_2\n",
    "    elif(list_2 is None):\n",
    "        return list_1\n",
    "        \n",
    "    if(list_1.val > list_2.val):\n",
    "        list_2.next_node = merge(list_1, list_2.next_node)\n",
    "        return list_2\n",
    "    \n",
    "    elif(list_2.val > list_1.val):\n",
    "        list_1.next_node = merge(list_1.next_node, list_2)\n",
    "        return list_1\n",
    "\n",
    "                   \n",
    "m1 = Node(1)\n",
    "m2 = Node(3)\n",
    "m3 = Node(5)\n",
    "m4 = Node(7)\n",
    "m5 = Node(2)\n",
    "m6 = Node(4)\n",
    "m7 = Node(6)\n",
    "\n",
    "m1.set_next_node(m2)\n",
    "m2.set_next_node(m3)\n",
    "m3.set_next_node(m4)\n",
    "\n",
    "m5.set_next_node(m6)\n",
    "m6.set_next_node(m7)\n",
    "\n",
    "list1 = Singly_linked_list(m1)\n",
    "print(\"List 1:\")\n",
    "list1.list_traversed()\n",
    "\n",
    "list2 = Singly_linked_list(m5)\n",
    "print(\"\\n\\nList 2:\")\n",
    "list2.list_traversed()\n",
    "\n",
    "list_merged = Singly_linked_list(merge(list1.head_node, list2.head_node))\n",
    "print(\"\\n\\nList Merged:\")\n",
    "list_merged.list_traversed()"
   ]
  },
  {
   "cell_type": "markdown",
   "id": "5aed375d",
   "metadata": {},
   "source": [
    "## 2. Implement quick sort"
   ]
  },
  {
   "cell_type": "markdown",
   "id": "bb0751f6",
   "metadata": {},
   "source": [
    "### 1. Use the divide and conquer technique to implement the quick sort algorithm studied in class."
   ]
  },
  {
   "cell_type": "code",
   "execution_count": 15,
   "id": "68cfff72",
   "metadata": {},
   "outputs": [
    {
     "name": "stdout",
     "output_type": "stream",
     "text": [
      "Array QuickSorted:\n",
      "[0, 1, 2, 3, 4, 5, 6, 7, 8, 9, 10, 11]\n"
     ]
    }
   ],
   "source": [
    "arr=[5,9,7,2,3,10,0,4,1,8,6,11]\n",
    "\n",
    "def quicksort(arr):\n",
    "    s1=[]\n",
    "    s2=[]\n",
    "    if len(arr) <= 1:\n",
    "        return arr\n",
    "    pivot = arr[0]\n",
    "    \n",
    "    for element in arr[1:]:\n",
    "        if element <= pivot:\n",
    "            s1.append(element)\n",
    "        else:\n",
    "            s2.append(element)\n",
    "    return quicksort(s1)+[pivot]+quicksort(s2)\n",
    "\n",
    "print(\"Array QuickSorted:\")\n",
    "print(quicksort(arr))"
   ]
  },
  {
   "cell_type": "markdown",
   "id": "019ce9d1",
   "metadata": {},
   "source": [
    "### 2. Use a couple of parragraphs to explain the steps of divide and conquer:"
   ]
  },
  {
   "cell_type": "code",
   "execution_count": null,
   "id": "6acff22f",
   "metadata": {},
   "outputs": [],
   "source": []
  },
  {
   "cell_type": "markdown",
   "id": "e5c88a30",
   "metadata": {},
   "source": [
    "### 3. Analyze complexity "
   ]
  },
  {
   "cell_type": "code",
   "execution_count": null,
   "id": "45a10896",
   "metadata": {},
   "outputs": [],
   "source": []
  },
  {
   "cell_type": "markdown",
   "id": "08066277",
   "metadata": {},
   "source": [
    "## 3. Compare quick sort and merge sort"
   ]
  },
  {
   "cell_type": "code",
   "execution_count": null,
   "id": "4976dc01",
   "metadata": {},
   "outputs": [],
   "source": []
  },
  {
   "cell_type": "markdown",
   "id": "a3ee3bf0",
   "metadata": {},
   "source": [
    "## 4. Implement factorials with recursion"
   ]
  },
  {
   "cell_type": "code",
   "execution_count": null,
   "id": "47b49d74",
   "metadata": {},
   "outputs": [],
   "source": []
  }
 ],
 "metadata": {
  "kernelspec": {
   "display_name": "Python 3 (ipykernel)",
   "language": "python",
   "name": "python3"
  },
  "language_info": {
   "codemirror_mode": {
    "name": "ipython",
    "version": 3
   },
   "file_extension": ".py",
   "mimetype": "text/x-python",
   "name": "python",
   "nbconvert_exporter": "python",
   "pygments_lexer": "ipython3",
   "version": "3.10.7"
  }
 },
 "nbformat": 4,
 "nbformat_minor": 5
}
