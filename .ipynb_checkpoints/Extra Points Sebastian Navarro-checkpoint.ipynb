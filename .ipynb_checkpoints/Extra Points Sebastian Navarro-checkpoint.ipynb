{
 "cells": [
  {
   "cell_type": "code",
   "execution_count": 1,
   "id": "1d71275a",
   "metadata": {},
   "outputs": [
    {
     "name": "stdout",
     "output_type": "stream",
     "text": [
      "List 1\n",
      "A\n",
      "B\n",
      "C\n",
      "\n",
      "List 2\n",
      "D\n",
      "E\n",
      "F\n",
      "New List 2\n",
      "A\n",
      "B\n",
      "C\n"
     ]
    }
   ],
   "source": [
    "class Node:\n",
    "    \"\"\"\n",
    "    Implementation of a node\n",
    "    \"\"\"\n",
    "    def __init__(self, val=None):\n",
    "        self.val = val\n",
    "        self.next_node = None\n",
    "    \n",
    "    def set_next_node(self, next_node):\n",
    "        self.next_node = next_node\n",
    "        \n",
    "class Singly_linked_list:\n",
    "    \"\"\"\n",
    "    Implementation of a singly linked list\n",
    "    \"\"\"\n",
    "    def __init__(self, head_node=None):\n",
    "        self.head_node = head_node\n",
    "        \n",
    "    def list_traversed(self):\n",
    "        node = self.head_node\n",
    "        while node:\n",
    "            print(node.val)\n",
    "            node = node.next_node\n",
    "\n",
    "def deep_copy(head_node):\n",
    "    if head_node is None:\n",
    "        return None\n",
    "    node = Node(head_node.val)\n",
    "    node.next_node = deep_copy(head_node.next_node)\n",
    "    return node\n",
    "    \n",
    "m1 = Node(\"A\")\n",
    "m2 = Node(\"B\")\n",
    "m3 = Node(\"C\")\n",
    "m4 = Node(\"D\")\n",
    "m5 = Node(\"E\")\n",
    "m6 = Node(\"F\")\n",
    "\n",
    "\n",
    "m1.set_next_node(m2)\n",
    "m2.set_next_node(m3)\n",
    "\n",
    "print(\"List 1\")\n",
    "list1 = Singly_linked_list(m1)\n",
    "list1.list_traversed()\n",
    "\n",
    "m4.set_next_node(m5)\n",
    "m5.set_next_node(m6)\n",
    "\n",
    "print(\"\")\n",
    "print(\"List 2\")\n",
    "list2 = Singly_linked_list(m4)\n",
    "list2.list_traversed()\n",
    "\n",
    "list2=deep_copy(list1.head_node)\n",
    "list2 = Singly_linked_list(list2)\n",
    "print(\"New List 2\")\n",
    "list2.list_traversed()\n"
   ]
  },
  {
   "cell_type": "code",
   "execution_count": null,
   "id": "cbcebdc2",
   "metadata": {},
   "outputs": [],
   "source": []
  }
 ],
 "metadata": {
  "kernelspec": {
   "display_name": "Python 3 (ipykernel)",
   "language": "python",
   "name": "python3"
  },
  "language_info": {
   "codemirror_mode": {
    "name": "ipython",
    "version": 3
   },
   "file_extension": ".py",
   "mimetype": "text/x-python",
   "name": "python",
   "nbconvert_exporter": "python",
   "pygments_lexer": "ipython3",
   "version": "3.10.7"
  }
 },
 "nbformat": 4,
 "nbformat_minor": 5
}
